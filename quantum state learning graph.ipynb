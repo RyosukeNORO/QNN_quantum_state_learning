{
 "cells": [
  {
   "cell_type": "code",
   "execution_count": 1,
   "id": "6f22f21d",
   "metadata": {},
   "outputs": [],
   "source": [
    "from qutip import *\n",
    "from qutip.measurement import measure, measurement_statistics\n",
    "import numpy as np\n",
    "import matplotlib.pyplot as plt\n",
    "import matplotlib as mpl\n",
    "from matplotlib import cm\n",
    "import time\n",
    "import random\n",
    "from tqdm.notebook import tqdm"
   ]
  },
  {
   "cell_type": "code",
   "execution_count": null,
   "id": "c337dbec",
   "metadata": {},
   "outputs": [],
   "source": []
  },
  {
   "cell_type": "code",
   "execution_count": 3,
   "id": "0778c554",
   "metadata": {},
   "outputs": [
    {
     "name": "stdout",
     "output_type": "stream",
     "text": [
      "3999 0.9983246046908348\n"
     ]
    },
    {
     "data": {
      "image/png": "[encoded data removed]",
      "text/plain": [
       "<Figure size 432x288 with 1 Axes>"
      ]
     },
     "metadata": {
      "needs_background": "light"
     },
     "output_type": "display_data"
    }
   ],
   "source": [
    "co = np.load('d8_step4000_adam_rate0.001_eps0.001_cost_d_05.npy')\n",
    "print(co.argmin(), (1-co[3999])**2)\n",
    "plt.plot(np.linspace(1, len(co), len(co)), co)\n",
    "plt.xlim([-50,1050])\n",
    "plt.xlabel('Step')\n",
    "plt.ylabel('Cost function')\n",
    "plt.show()"
   ]
  },
  {
   "cell_type": "code",
   "execution_count": 4,
   "id": "05b0fd77",
   "metadata": {},
   "outputs": [
    {
     "name": "stdout",
     "output_type": "stream",
     "text": [
      "0.4544806757833658\n",
      "-0.42829418597914604\n"
     ]
    },
    {
     "data": {
      "text/plain": [
       "'\\nfor i in range(len(pa)):\\n    if i % 50 == 0:\\n        st = variational_quantum_circuit(pa[i])\\n        plot_wigner(st)\\n'"
      ]
     },
     "execution_count": 4,
     "metadata": {},
     "output_type": "execute_result"
    }
   ],
   "source": [
    "pa = np.load('d8_step4000_adam_rate0.001_eps0.001_params_d_05.npy')\n",
    "\n",
    "plot_list = [0, 70, 120, 200, 350, 1000, 4999]\n",
    "for i in plot_list:\n",
    "    st = variational_quantum_circuit(pa[i])\n",
    "    plot_wigner(st)\n",
    "\n",
    "for i in range(len(pa)):\n",
    "    if i % 50 == 0:\n",
    "        st = variational_quantum_circuit(pa[i])\n",
    "        plot_wigner(st)"
   ]
  },
  {
   "cell_type": "code",
   "execution_count": null,
   "id": "47017df7",
   "metadata": {},
   "outputs": [],
   "source": []
  }
 ],
 "metadata": {
  "kernelspec": {
   "display_name": "Python 3 (ipykernel)",
   "language": "python",
   "name": "python3"
  },
  "language_info": {
   "codemirror_mode": {
    "name": "ipython",
    "version": 3
   },
   "file_extension": ".py",
   "mimetype": "text/x-python",
   "name": "python",
   "nbconvert_exporter": "python",
   "pygments_lexer": "ipython3",
   "version": "3.8.8"
  }
 },
 "nbformat": 4,
 "nbformat_minor": 5
}
